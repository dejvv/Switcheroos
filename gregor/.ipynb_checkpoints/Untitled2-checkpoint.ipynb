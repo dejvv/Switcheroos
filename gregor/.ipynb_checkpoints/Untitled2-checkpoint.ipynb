{
 "cells": [
  {
   "cell_type": "code",
   "execution_count": 2,
   "metadata": {},
   "outputs": [],
   "source": [
    "import java.io.*;"
   ]
  },
  {
   "cell_type": "code",
   "execution_count": null,
   "metadata": {},
   "outputs": [],
   "source": [
    "BufferedReader in = new BufferedReader(new FileReader(\"h.out\"));\n",
    "//x1, y1, x2, y2 = (45.978571, 14.395671, 46.140379, 14.627671)\n",
    "double x1=45.978571;\n",
    "double x2=46.140379;\n",
    "double y1=14.395671;\n",
    "double y2=14.627671;\n",
    "PrintWriter out = new PrintWriter(new FileWriter(\"hfilter.txt\"));\n",
    "while(in.ready()){\n",
    "    String[] q = in.readLine().split(\" +\");\n",
    "    double x=Double.parseDouble(q[0]);\n",
    "    double y=Double.parseDouble(q[1]);\n",
    "    if(x1<x && x<x2 && y1<y && y<y2){\n",
    "        out.println(q[0]+\" \"+q[1]+\" \"+q[2]);\n",
    "    }\n",
    "}\n",
    "out.close();"
   ]
  },
  {
   "cell_type": "code",
   "execution_count": null,
   "metadata": {},
   "outputs": [],
   "source": []
  }
 ],
 "metadata": {
  "kernelspec": {
   "display_name": "Java",
   "language": "java",
   "name": "java"
  },
  "language_info": {
   "codemirror_mode": "java",
   "file_extension": ".jshell",
   "mimetype": "text/x-java-source",
   "name": "Java",
   "pygments_lexer": "java",
   "version": "13.0.2+8"
  }
 },
 "nbformat": 4,
 "nbformat_minor": 4
}
