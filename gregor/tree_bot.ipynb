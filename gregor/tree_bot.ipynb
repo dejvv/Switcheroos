{
 "cells": [
  {
   "cell_type": "code",
   "execution_count": 1,
   "metadata": {},
   "outputs": [],
   "source": [
    "import pyautogui as pyautogui\n",
    "import mouse\n",
    "import keyboard\n",
    "import imageio\n",
    "import time"
   ]
  },
  {
   "cell_type": "code",
   "execution_count": 2,
   "metadata": {},
   "outputs": [],
   "source": [
    "pyautogui.moveTo(100, 150)"
   ]
  },
  {
   "cell_type": "code",
   "execution_count": 2,
   "metadata": {},
   "outputs": [],
   "source": [
    "def get_clicks():\n",
    "    mouse_events = []\n",
    "    mouse.hook(mouse_events.append)\n",
    "\n",
    "    keyboard.wait(\"c\")\n",
    "    mouse.unhook(mouse_events.append)\n",
    "    \n",
    "    clicks=[]\n",
    "    for i in range(1,len(mouse_events)):\n",
    "        if getattr(mouse_events[i], \"event_type\", None) is not None and getattr(mouse_events[i-1], \"event_type\", None) is None:\n",
    "            clicks.append((mouse_events[i-1].x, mouse_events[i-1].y))\n",
    "    return clicks"
   ]
  },
  {
   "cell_type": "code",
   "execution_count": 5,
   "metadata": {},
   "outputs": [
    {
     "name": "stdout",
     "output_type": "stream",
     "text": [
      "[]\n"
     ]
    }
   ],
   "source": [
    "clicks=get_clicks()\n",
    "print(clicks)"
   ]
  },
  {
   "cell_type": "code",
   "execution_count": 6,
   "metadata": {},
   "outputs": [],
   "source": [
    "def getScreenPosition(xx,yy,x1,y1,x2,y2):\n",
    "    xper = xx/1081\n",
    "    yper = yy/1081\n",
    "    if not (0.1<xper<0.9 and 0.1<yper<0.9):\n",
    "        return 0,0\n",
    "    x0 = x1-(x2-x1)*.4\n",
    "    y0 = y1-(y2-y1)*.4\n",
    "    x = x0 + ((x2-x1)/5)*9*xper\n",
    "    y = y0 + ((y2-y1)/5)*9*yper\n",
    "    return x,y"
   ]
  },
  {
   "cell_type": "code",
   "execution_count": 7,
   "metadata": {},
   "outputs": [],
   "source": [
    "def clearIm(im, i, j):\n",
    "    for x in range(-20,20):\n",
    "        for y in range(-20,20):\n",
    "            px = i+x\n",
    "            py = j+y\n",
    "            if 0<=px<1081 and 0<=py<1081:\n",
    "                im[px][py][0]=0"
   ]
  },
  {
   "cell_type": "code",
   "execution_count": 9,
   "metadata": {},
   "outputs": [
    {
     "name": "stdout",
     "output_type": "stream",
     "text": [
      "(1081, 1081, 4)\n",
      "[(628, 132), (1339, 849)]\n",
      "628 132 1339 849\n"
     ]
    }
   ],
   "source": [
    "im2 = imageio.imread('tree.png')\n",
    "print(im2.shape)\n",
    "clicks=get_clicks()\n",
    "#Click to place trees\n",
    "pyautogui.moveTo(985,1010)\n",
    "pyautogui.click()\n",
    "\n",
    "print(clicks)\n",
    "x1, y1, x2, y2 = (clicks[0][0],clicks[0][1],clicks[1][0],clicks[1][1])\n",
    "print(x1,y1,x2,y2)\n",
    "\n",
    "for i in range(10,1071):\n",
    "    for j in range(10,1071):\n",
    "        if im2[i][j][0]>0:\n",
    "            x,y = getScreenPosition(j,i,x1,y1,x2,y2)\n",
    "            if 66<y<875 and 50<x<1870:\n",
    "                pyautogui.moveTo(x,y)\n",
    "                pyautogui.mouseDown(); time.sleep(0.002); pyautogui.mouseUp()\n",
    "                clearIm(im2,i,j)\n",
    "            "
   ]
  },
  {
   "cell_type": "code",
   "execution_count": null,
   "metadata": {},
   "outputs": [],
   "source": []
  },
  {
   "cell_type": "code",
   "execution_count": 5,
   "metadata": {},
   "outputs": [
    {
     "name": "stdout",
     "output_type": "stream",
     "text": [
      "(1081, 1081)\n"
     ]
    }
   ],
   "source": []
  }
 ],
 "metadata": {
  "kernelspec": {
   "display_name": "Python 3.7.4 64-bit",
   "language": "python",
   "name": "python37464bitf757ebbde42446cf889482020db9e6b3"
  },
  "language_info": {
   "codemirror_mode": {
    "name": "ipython",
    "version": 3
   },
   "file_extension": ".py",
   "mimetype": "text/x-python",
   "name": "python",
   "nbconvert_exporter": "python",
   "pygments_lexer": "ipython3",
   "version": "3.7.4"
  }
 },
 "nbformat": 4,
 "nbformat_minor": 4
}
